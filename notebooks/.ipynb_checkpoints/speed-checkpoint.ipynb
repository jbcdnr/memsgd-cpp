{
 "cells": [
  {
   "cell_type": "code",
   "execution_count": 1,
   "metadata": {},
   "outputs": [],
   "source": [
    "import logistic\n",
    "from sklearn.linear_model import SGDClassifier\n",
    "from sklearn.datasets import load_svmlight_file\n",
    "import time\n",
    "import numpy as np\n",
    "\n",
    "repeat = 10"
   ]
  },
  {
   "cell_type": "code",
   "execution_count": 2,
   "metadata": {},
   "outputs": [],
   "source": [
    "madelon = logistic.PyDataset(\"madelon\", \"/Users/jb/data/madelon.txt\", 2000, 500, False)\n",
    "rcv1 = logistic.PyDataset(\"rcv1\", \"/mlodata1/jb/data/rcv1_train.binary\", 20242, 47236, True)\n",
    "rcv1_test = logistic.PyDataset(\"rcv1_test\", \"/mlodata1/jb/data/rcv1_test.binary\", 677399, 47236, True)\n",
    "epsilon = logistic.PyDataset(\"epsilon\", \"/mlodata1/jb/data/epsilon_normalized\", 400000, 2000, True)"
   ]
  },
  {
   "cell_type": "markdown",
   "metadata": {},
   "source": [
    "# RCV1"
   ]
  },
  {
   "cell_type": "code",
   "execution_count": 3,
   "metadata": {},
   "outputs": [],
   "source": [
    "rcv1_test.load()"
   ]
  },
  {
   "cell_type": "code",
   "execution_count": 4,
   "metadata": {},
   "outputs": [],
   "source": [
    "num_samples = 677399"
   ]
  },
  {
   "cell_type": "code",
   "execution_count": null,
   "metadata": {},
   "outputs": [],
   "source": [
    "res = np.zeros(repeat)\n",
    "for i in range(repeat):\n",
    "    model = logistic.PygisticSGD(numEpochs=10, lrType=\"bottou\", lr=.1, tau=1., lambda_=1. / num_samples, \n",
    "                         weightingScheme='final', useMemory=False, takeK=0, takeTop=False, cores=1, printPerEpoch=0)\n",
    "    start = time.time()\n",
    "    model.fit(rcv1_test)\n",
    "    elapsed = time.time() - start\n",
    "    res[i] = elapsed\n",
    "    print(\"done {} took {}s\".format(i, elapsed))\n",
    "    \n",
    "res"
   ]
  },
  {
   "cell_type": "code",
   "execution_count": 6,
   "metadata": {},
   "outputs": [],
   "source": [
    "rcv1_test_svm = load_svmlight_file(\"/mlodata1/jb/data/rcv1_test.binary\")"
   ]
  },
  {
   "cell_type": "code",
   "execution_count": 10,
   "metadata": {},
   "outputs": [],
   "source": [
    "X,y = rcv1_test_svm\n",
    "clf = SGDClassifier(max_iter=10, loss='log', penalty='l2', alpha=1. / X.shape[0], fit_intercept=False, verbose=True)"
   ]
  },
  {
   "cell_type": "code",
   "execution_count": 11,
   "metadata": {},
   "outputs": [
    {
     "name": "stdout",
     "output_type": "stream",
     "text": [
      "-- Epoch 1\n",
      "Norm: 160.30, NNZs: 42735, Bias: 0.000000, T: 677399, Avg. loss: 0.088793\n",
      "Total training time: 0.61 seconds.\n",
      "-- Epoch 2\n",
      "Norm: 155.27, NNZs: 42735, Bias: 0.000000, T: 1354798, Avg. loss: 0.071308\n",
      "Total training time: 1.16 seconds.\n",
      "-- Epoch 3\n",
      "Norm: 153.84, NNZs: 42735, Bias: 0.000000, T: 2032197, Avg. loss: 0.069937\n",
      "Total training time: 1.76 seconds.\n",
      "-- Epoch 4\n",
      "Norm: 153.26, NNZs: 42735, Bias: 0.000000, T: 2709596, Avg. loss: 0.069390\n",
      "Total training time: 2.39 seconds.\n",
      "-- Epoch 5\n",
      "Norm: 153.00, NNZs: 42735, Bias: 0.000000, T: 3386995, Avg. loss: 0.069044\n",
      "Total training time: 2.95 seconds.\n",
      "-- Epoch 6\n",
      "Norm: 152.74, NNZs: 42735, Bias: 0.000000, T: 4064394, Avg. loss: 0.068795\n",
      "Total training time: 3.50 seconds.\n",
      "-- Epoch 7\n",
      "Norm: 152.68, NNZs: 42735, Bias: 0.000000, T: 4741793, Avg. loss: 0.068688\n",
      "Total training time: 4.25 seconds.\n",
      "-- Epoch 8\n",
      "Norm: 152.63, NNZs: 42735, Bias: 0.000000, T: 5419192, Avg. loss: 0.068536\n",
      "Total training time: 4.84 seconds.\n",
      "-- Epoch 9\n",
      "Norm: 152.50, NNZs: 42735, Bias: 0.000000, T: 6096591, Avg. loss: 0.068447\n",
      "Total training time: 5.36 seconds.\n",
      "-- Epoch 10\n",
      "Norm: 152.46, NNZs: 42735, Bias: 0.000000, T: 6773990, Avg. loss: 0.068385\n",
      "Total training time: 5.92 seconds.\n"
     ]
    },
    {
     "data": {
      "text/plain": [
       "SGDClassifier(alpha=1.476234833532379e-06, average=False, class_weight=None,\n",
       "       epsilon=0.1, eta0=0.0, fit_intercept=False, l1_ratio=0.15,\n",
       "       learning_rate='optimal', loss='log', max_iter=10, n_iter=None,\n",
       "       n_jobs=1, penalty='l2', power_t=0.5, random_state=None,\n",
       "       shuffle=True, tol=None, verbose=True, warm_start=False)"
      ]
     },
     "execution_count": 11,
     "metadata": {},
     "output_type": "execute_result"
    }
   ],
   "source": [
    "# %%timeit\n",
    "clf.fit(X,y)"
   ]
  },
  {
   "cell_type": "code",
   "execution_count": 12,
   "metadata": {},
   "outputs": [],
   "source": [
    "epsilon_svm = load_svmlight_file(\"/mlodata1/jb/data/epsilon_normalized\")"
   ]
  },
  {
   "cell_type": "code",
   "execution_count": null,
   "metadata": {},
   "outputs": [],
   "source": [
    "X,y = epsilon_svm\n",
    "clf = SGDClassifier(max_iter=10, loss='log', penalty='l2', alpha=1. / X.shape[0], fit_intercept=False, verbose=True)"
   ]
  }
 ],
 "metadata": {
  "kernelspec": {
   "display_name": "Python 3",
   "language": "python",
   "name": "python3"
  },
  "language_info": {
   "codemirror_mode": {
    "name": "ipython",
    "version": 3
   },
   "file_extension": ".py",
   "mimetype": "text/x-python",
   "name": "python",
   "nbconvert_exporter": "python",
   "pygments_lexer": "ipython3",
   "version": "3.6.3"
  }
 },
 "nbformat": 4,
 "nbformat_minor": 2
}
