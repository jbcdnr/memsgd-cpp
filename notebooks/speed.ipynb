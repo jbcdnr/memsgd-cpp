{
 "cells": [
  {
   "cell_type": "code",
   "execution_count": 10,
   "metadata": {},
   "outputs": [],
   "source": [
    "import logistic\n",
    "from sklearn.linear_model import SGDClassifier\n",
    "from sklearn.datasets import load_svmlight_file"
   ]
  },
  {
   "cell_type": "code",
   "execution_count": 2,
   "metadata": {},
   "outputs": [],
   "source": [
    "madelon = logistic.PyDataset(\"madelon\", \"/Users/jb/data/madelon.txt\", 2000, 500, False)\n",
    "rcv1 = logistic.PyDataset(\"rcv1\", \"/mlodata1/jb/data/rcv1_train.binary\", 20242, 47236, True)\n",
    "rcv1_test = logistic.PyDataset(\"rcv1_test\", \"/mlodata1/jb/data/rcv1_test.binary\", 677399, 47236, True)\n",
    "epsilon = logistic.PyDataset(\"epsilon\", \"/mlodata1/jb/data/epsilon_normalized\", 400000, 2000, True)"
   ]
  },
  {
   "cell_type": "code",
   "execution_count": 3,
   "metadata": {},
   "outputs": [],
   "source": [
    "rcv1_test.load()"
   ]
  },
  {
   "cell_type": "code",
   "execution_count": 18,
   "metadata": {},
   "outputs": [],
   "source": [
    "num_samples = 677399\n",
    "model = logistic.PygisticSGD(numEpochs=3, lrType=\"optimal\", lr=2., tau=1., lambda_=1. / num_samples, \n",
    "                     weightingScheme='final', useMemory=False, takeK=0, takeTop=False, cores=1, printPerEpoch=1)"
   ]
  },
  {
   "cell_type": "code",
   "execution_count": 19,
   "metadata": {},
   "outputs": [
    {
     "name": "stdout",
     "output_type": "stream",
     "text": [
      "14.9 s ± 40.2 ms per loop (mean ± std. dev. of 7 runs, 1 loop each)\n"
     ]
    }
   ],
   "source": [
    "%%timeit\n",
    "model.fit(rcv1_test)"
   ]
  },
  {
   "cell_type": "code",
   "execution_count": 11,
   "metadata": {},
   "outputs": [],
   "source": [
    "rcv1_test_svm = load_svmlight_file(\"/mlodata1/jb/data/rcv1_test.binary\")"
   ]
  },
  {
   "cell_type": "code",
   "execution_count": 16,
   "metadata": {},
   "outputs": [],
   "source": [
    "X,y = rcv1_test_svm\n",
    "clf = SGDClassifier(max_iter=3, loss='log', penalty='l2', alpha=1. / X.shape[0], fit_intercept=False, verbose=True)"
   ]
  },
  {
   "cell_type": "code",
   "execution_count": 17,
   "metadata": {},
   "outputs": [
    {
     "name": "stdout",
     "output_type": "stream",
     "text": [
      "-- Epoch 1\n",
      "Norm: 160.36, NNZs: 42735, Bias: 0.000000, T: 677399, Avg. loss: 0.088985\n",
      "Total training time: 0.67 seconds.\n",
      "-- Epoch 2\n",
      "Norm: 155.08, NNZs: 42735, Bias: 0.000000, T: 1354798, Avg. loss: 0.071300\n",
      "Total training time: 1.17 seconds.\n",
      "-- Epoch 3\n",
      "Norm: 154.00, NNZs: 42735, Bias: 0.000000, T: 2032197, Avg. loss: 0.069958\n",
      "Total training time: 1.66 seconds.\n",
      "-- Epoch 1\n",
      "Norm: 159.89, NNZs: 42735, Bias: 0.000000, T: 677399, Avg. loss: 0.089226\n",
      "Total training time: 0.48 seconds.\n",
      "-- Epoch 2\n",
      "Norm: 154.86, NNZs: 42735, Bias: 0.000000, T: 1354798, Avg. loss: 0.071378\n",
      "Total training time: 0.98 seconds.\n",
      "-- Epoch 3\n",
      "Norm: 153.98, NNZs: 42735, Bias: 0.000000, T: 2032197, Avg. loss: 0.069990\n",
      "Total training time: 1.47 seconds.\n",
      "-- Epoch 1\n",
      "Norm: 159.89, NNZs: 42735, Bias: 0.000000, T: 677399, Avg. loss: 0.089126\n",
      "Total training time: 0.53 seconds.\n",
      "-- Epoch 2\n",
      "Norm: 154.87, NNZs: 42735, Bias: 0.000000, T: 1354798, Avg. loss: 0.071384\n",
      "Total training time: 1.03 seconds.\n",
      "-- Epoch 3\n",
      "Norm: 153.91, NNZs: 42735, Bias: 0.000000, T: 2032197, Avg. loss: 0.069979\n",
      "Total training time: 1.53 seconds.\n",
      "-- Epoch 1\n",
      "Norm: 159.92, NNZs: 42735, Bias: 0.000000, T: 677399, Avg. loss: 0.088513\n",
      "Total training time: 0.48 seconds.\n",
      "-- Epoch 2\n",
      "Norm: 154.87, NNZs: 42735, Bias: 0.000000, T: 1354798, Avg. loss: 0.071343\n",
      "Total training time: 0.98 seconds.\n",
      "-- Epoch 3\n",
      "Norm: 154.02, NNZs: 42735, Bias: 0.000000, T: 2032197, Avg. loss: 0.069987\n",
      "Total training time: 1.47 seconds.\n",
      "-- Epoch 1\n",
      "Norm: 159.73, NNZs: 42735, Bias: 0.000000, T: 677399, Avg. loss: 0.088662\n",
      "Total training time: 0.48 seconds.\n",
      "-- Epoch 2\n",
      "Norm: 154.95, NNZs: 42735, Bias: 0.000000, T: 1354798, Avg. loss: 0.071292\n",
      "Total training time: 0.98 seconds.\n",
      "-- Epoch 3\n",
      "Norm: 153.98, NNZs: 42735, Bias: 0.000000, T: 2032197, Avg. loss: 0.070012\n",
      "Total training time: 1.47 seconds.\n",
      "-- Epoch 1\n",
      "Norm: 160.21, NNZs: 42735, Bias: 0.000000, T: 677399, Avg. loss: 0.088293\n",
      "Total training time: 0.48 seconds.\n",
      "-- Epoch 2\n",
      "Norm: 155.11, NNZs: 42735, Bias: 0.000000, T: 1354798, Avg. loss: 0.071305\n",
      "Total training time: 0.98 seconds.\n",
      "-- Epoch 3\n",
      "Norm: 153.68, NNZs: 42735, Bias: 0.000000, T: 2032197, Avg. loss: 0.069973\n",
      "Total training time: 1.47 seconds.\n",
      "-- Epoch 1\n",
      "Norm: 160.67, NNZs: 42735, Bias: 0.000000, T: 677399, Avg. loss: 0.089223\n",
      "Total training time: 0.48 seconds.\n",
      "-- Epoch 2\n",
      "Norm: 155.11, NNZs: 42735, Bias: 0.000000, T: 1354798, Avg. loss: 0.071287\n",
      "Total training time: 0.98 seconds.\n",
      "-- Epoch 3\n",
      "Norm: 153.79, NNZs: 42735, Bias: 0.000000, T: 2032197, Avg. loss: 0.069964\n",
      "Total training time: 1.47 seconds.\n",
      "-- Epoch 1\n",
      "Norm: 160.17, NNZs: 42735, Bias: 0.000000, T: 677399, Avg. loss: 0.088892\n",
      "Total training time: 0.48 seconds.\n",
      "-- Epoch 2\n",
      "Norm: 155.29, NNZs: 42735, Bias: 0.000000, T: 1354798, Avg. loss: 0.071286\n",
      "Total training time: 0.98 seconds.\n",
      "-- Epoch 3\n",
      "Norm: 153.86, NNZs: 42735, Bias: 0.000000, T: 2032197, Avg. loss: 0.069992\n",
      "Total training time: 1.47 seconds.\n",
      "1.64 s ± 32.9 ms per loop (mean ± std. dev. of 7 runs, 1 loop each)\n"
     ]
    }
   ],
   "source": [
    "%%timeit\n",
    "clf.fit(X,y)"
   ]
  },
  {
   "cell_type": "code",
   "execution_count": null,
   "metadata": {},
   "outputs": [],
   "source": []
  }
 ],
 "metadata": {
  "kernelspec": {
   "display_name": "Python 3",
   "language": "python",
   "name": "python3"
  },
  "language_info": {
   "codemirror_mode": {
    "name": "ipython",
    "version": 3
   },
   "file_extension": ".py",
   "mimetype": "text/x-python",
   "name": "python",
   "nbconvert_exporter": "python",
   "pygments_lexer": "ipython3",
   "version": "3.6.3"
  }
 },
 "nbformat": 4,
 "nbformat_minor": 2
}
